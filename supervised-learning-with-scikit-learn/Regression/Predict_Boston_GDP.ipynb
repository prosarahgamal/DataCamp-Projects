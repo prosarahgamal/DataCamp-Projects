{
  "nbformat": 4,
  "nbformat_minor": 0,
  "metadata": {
    "colab": {
      "name": "Predect-Boston-GDP.ipynb",
      "provenance": [],
      "authorship_tag": "ABX9TyM7FxcIzu6csl8IqmlHLBJ3",
      "include_colab_link": true
    },
    "kernelspec": {
      "name": "python3",
      "display_name": "Python 3"
    }
  },
  "cells": [
    {
      "cell_type": "markdown",
      "metadata": {
        "id": "view-in-github",
        "colab_type": "text"
      },
      "source": [
        "<a href=\"https://colab.research.google.com/github/prosarahgamal/DataCamp-Projects/blob/master/supervised-learning-with-scikit-learn/Regression/Predict_Boston_GDP.ipynb\" target=\"_parent\"><img src=\"https://colab.research.google.com/assets/colab-badge.svg\" alt=\"Open In Colab\"/></a>"
      ]
    },
    {
      "cell_type": "code",
      "metadata": {
        "id": "6_0CDVtOIto_",
        "colab_type": "code",
        "colab": {}
      },
      "source": [
        "from sklearn.datasets import load_boston\n",
        "import matplotlib.pyplot as plt\n",
        "import numpy as np\n",
        "from sklearn.linear_model import LinearRegression\n",
        "from sklearn.model_selection import train_test_split\n",
        "from sklearn.metrics import mean_squared_error\n",
        "from sklearn.model_selection import cross_val_score\n",
        "from sklearn.linear_model import Lasso\n",
        "from sklearn.linear_model import Ridge\n",
        "\n",
        "X, y = load_boston(return_X_y=True)"
      ],
      "execution_count": 0,
      "outputs": []
    },
    {
      "cell_type": "code",
      "metadata": {
        "id": "qDNMXiFLPIB-",
        "colab_type": "code",
        "colab": {}
      },
      "source": [
        "X_train, X_test, y_train, y_test = train_test_split(X, y, test_size=0.25, \n",
        "                                                    random_state=42)"
      ],
      "execution_count": 0,
      "outputs": []
    },
    {
      "cell_type": "code",
      "metadata": {
        "id": "hutlCyntbQxi",
        "colab_type": "code",
        "colab": {}
      },
      "source": [
        "reg = LinearRegression()"
      ],
      "execution_count": 0,
      "outputs": []
    },
    {
      "cell_type": "code",
      "metadata": {
        "id": "_jIkbaRfPukh",
        "colab_type": "code",
        "colab": {
          "base_uri": "https://localhost:8080/",
          "height": 34
        },
        "outputId": "1d0a5a57-df86-42c7-b6e2-4f892b1f2119"
      },
      "source": [
        "reg.fit(X_train, y_train)"
      ],
      "execution_count": 6,
      "outputs": [
        {
          "output_type": "execute_result",
          "data": {
            "text/plain": [
              "LinearRegression(copy_X=True, fit_intercept=True, n_jobs=None, normalize=False)"
            ]
          },
          "metadata": {
            "tags": []
          },
          "execution_count": 6
        }
      ]
    },
    {
      "cell_type": "code",
      "metadata": {
        "id": "aveOFuGtT-j0",
        "colab_type": "code",
        "colab": {}
      },
      "source": [
        "y_pred = reg.predict(X_test)"
      ],
      "execution_count": 0,
      "outputs": []
    },
    {
      "cell_type": "code",
      "metadata": {
        "id": "juE-_CeSZMvp",
        "colab_type": "code",
        "colab": {}
      },
      "source": [
        "# calculating the cost\n",
        "print('R^2 = {}' .format(reg.score(X_test, y_test)))\n",
        "rmse = np.sqrt(mean_squared_error(y_test, y_pred))\n",
        "print(\"Root Mean Squared Error: {}\".format(rmse))"
      ],
      "execution_count": 0,
      "outputs": []
    },
    {
      "cell_type": "code",
      "metadata": {
        "id": "X82RozrZba9N",
        "colab_type": "code",
        "colab": {}
      },
      "source": [
        "# using cross validation\n",
        "cv_results = cross_val_score(reg, X, y, cv=5)\n",
        "print(np.mean(cv_results))"
      ],
      "execution_count": 0,
      "outputs": []
    },
    {
      "cell_type": "code",
      "metadata": {
        "id": "UgYD97U7kmb1",
        "colab_type": "code",
        "colab": {
          "base_uri": "https://localhost:8080/",
          "height": 34
        },
        "outputId": "20b48d90-6c36-4670-ded8-7cd2e93e8f0c"
      },
      "source": [
        "# using lasso regression\n",
        "lasso = Lasso(alpha=0.4, normalize=True)\n",
        "lasso_coef = lasso.fit(X, y).coef_\n",
        "print(lasso_coef)"
      ],
      "execution_count": 18,
      "outputs": [
        {
          "output_type": "stream",
          "text": [
            "[-0.  0. -0.  0. -0.  0. -0.  0. -0. -0. -0.  0. -0.]\n"
          ],
          "name": "stdout"
        }
      ]
    },
    {
      "cell_type": "code",
      "metadata": {
        "id": "CFWqq1Bdpmyg",
        "colab_type": "code",
        "colab": {
          "base_uri": "https://localhost:8080/",
          "height": 34
        },
        "outputId": "45054fbb-ceb2-4e45-c241-2a600b307078"
      },
      "source": [
        "# using Ridge regression\n",
        "ridge = Ridge(alpha=0.4, normalize=True)\n",
        "ridge.fit(X_train, y_train)\n",
        "\n",
        "print(ridge.score(X_test, y_test))"
      ],
      "execution_count": 24,
      "outputs": [
        {
          "output_type": "stream",
          "text": [
            "0.6611948009629016\n"
          ],
          "name": "stdout"
        }
      ]
    },
    {
      "cell_type": "code",
      "metadata": {
        "id": "gDatTT2aptQP",
        "colab_type": "code",
        "colab": {}
      },
      "source": [
        ""
      ],
      "execution_count": 0,
      "outputs": []
    }
  ]
}