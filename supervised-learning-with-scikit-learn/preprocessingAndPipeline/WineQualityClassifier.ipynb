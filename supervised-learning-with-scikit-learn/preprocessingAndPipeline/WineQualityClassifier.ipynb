{
  "nbformat": 4,
  "nbformat_minor": 0,
  "metadata": {
    "colab": {
      "name": "WineQualityClassifier.ipynb",
      "provenance": [],
      "authorship_tag": "ABX9TyMZxMipubMbnu2cHkLllDSP",
      "include_colab_link": true
    },
    "kernelspec": {
      "name": "python3",
      "display_name": "Python 3"
    }
  },
  "cells": [
    {
      "cell_type": "markdown",
      "metadata": {
        "id": "view-in-github",
        "colab_type": "text"
      },
      "source": [
        "<a href=\"https://colab.research.google.com/github/prosarahgamal/DataCamp-Projects/blob/master/supervised-learning-with-scikit-learn/preprocessingAndPipeline/WineQualityClassifier.ipynb\" target=\"_parent\"><img src=\"https://colab.research.google.com/assets/colab-badge.svg\" alt=\"Open In Colab\"/></a>"
      ]
    },
    {
      "cell_type": "code",
      "metadata": {
        "id": "Gdw_YyZB1iaq",
        "colab_type": "code",
        "colab": {}
      },
      "source": [
        "from sklearn.datasets import load_wine\n",
        "from sklearn.pipeline import Pipeline\n",
        "from sklearn.svm import SVC\n",
        "from sklearn.model_selection import GridSearchCV\n",
        "from sklearn.metrics import classification_report\n",
        "from sklearn.metrics import accuracy_score\n",
        "from sklearn.preprocessing import StandardScaler\n",
        "from sklearn.model_selection import train_test_split"
      ],
      "execution_count": 0,
      "outputs": []
    },
    {
      "cell_type": "code",
      "metadata": {
        "id": "r0nHEScD-E-N",
        "colab_type": "code",
        "colab": {}
      },
      "source": [
        "df = load_wine()\n",
        "X = df.data\n",
        "y = df.target"
      ],
      "execution_count": 0,
      "outputs": []
    },
    {
      "cell_type": "code",
      "metadata": {
        "id": "0eDu-vbt-5ZS",
        "colab_type": "code",
        "colab": {}
      },
      "source": [
        "# Setup the pipeline\n",
        "steps = [('scaler', StandardScaler()),\n",
        "         ('SVM', SVC())]\n",
        "\n",
        "pipeline = Pipeline(steps)"
      ],
      "execution_count": 0,
      "outputs": []
    },
    {
      "cell_type": "code",
      "metadata": {
        "id": "fGNWQ-eQ_D4n",
        "colab_type": "code",
        "colab": {}
      },
      "source": [
        "# Specify the hyperparameter space\n",
        "parameters = {'SVM__C':[1, 10, 100],\n",
        "              'SVM__gamma':[0.1, 0.01]}"
      ],
      "execution_count": 0,
      "outputs": []
    },
    {
      "cell_type": "code",
      "metadata": {
        "id": "3Gbw_fgG_ZYK",
        "colab_type": "code",
        "colab": {}
      },
      "source": [
        "# Create train and test sets\n",
        "X_train, X_test, y_train, y_test = train_test_split(X, y, test_size=0.3, random_state=21)"
      ],
      "execution_count": 0,
      "outputs": []
    },
    {
      "cell_type": "code",
      "metadata": {
        "id": "tYYV4ODr_eGm",
        "colab_type": "code",
        "colab": {}
      },
      "source": [
        "# Instantiate the GridSearchCV object: cv\n",
        "cv = GridSearchCV(pipeline, param_grid=parameters)"
      ],
      "execution_count": 0,
      "outputs": []
    },
    {
      "cell_type": "code",
      "metadata": {
        "id": "u67XX7OA_h7a",
        "colab_type": "code",
        "colab": {}
      },
      "source": [
        "# Fit to the training set\n",
        "cv.fit(X_train, y_train)"
      ],
      "execution_count": 0,
      "outputs": []
    },
    {
      "cell_type": "code",
      "metadata": {
        "id": "GnrboSxe_oLL",
        "colab_type": "code",
        "colab": {}
      },
      "source": [
        "# Predict the labels of the test set: y_pred\n",
        "y_pred = cv.predict(X_test)"
      ],
      "execution_count": 0,
      "outputs": []
    },
    {
      "cell_type": "code",
      "metadata": {
        "id": "k9CZqSDn_sXX",
        "colab_type": "code",
        "colab": {}
      },
      "source": [
        "# Compute and print metrics\n",
        "print(\"Accuracy: {}\".format(cv.score(X_test, y_test)))\n",
        "print(classification_report(y_test, y_pred))\n",
        "print(\"Tuned Model Parameters: {}\".format(cv.best_params_))"
      ],
      "execution_count": 0,
      "outputs": []
    }
  ]
}