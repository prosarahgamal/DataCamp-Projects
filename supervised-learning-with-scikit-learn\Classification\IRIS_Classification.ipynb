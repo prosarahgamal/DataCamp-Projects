{
  "nbformat": 4,
  "nbformat_minor": 0,
  "metadata": {
    "colab": {
      "name": "IRIS Classification.ipynb",
      "provenance": [],
      "authorship_tag": "ABX9TyOjiSn0X/ZSBwV8+fBQyudS",
      "include_colab_link": true
    },
    "kernelspec": {
      "name": "python3",
      "display_name": "Python 3"
    }
  },
  "cells": [
    {
      "cell_type": "markdown",
      "metadata": {
        "id": "view-in-github",
        "colab_type": "text"
      },
      "source": [
        "<a href=\"https://colab.research.google.com/github/prosarahgamal/DataCamp-Projects/blob/master/supervised-learning-with-scikit-learn%5CClassification%5CIRIS_Classification.ipynb\" target=\"_parent\"><img src=\"https://colab.research.google.com/assets/colab-badge.svg\" alt=\"Open In Colab\"/></a>"
      ]
    },
    {
      "cell_type": "code",
      "metadata": {
        "id": "bSlTrzst-2s3",
        "colab_type": "code",
        "colab": {}
      },
      "source": [
        "from sklearn import datasets\n",
        "import pandas as pd\n",
        "import numpy as np\n",
        "import matplotlib.pyplot as plt\n",
        "plt.style.use('ggplot')\n",
        "iris = datasets.load_iris()"
      ],
      "execution_count": 0,
      "outputs": []
    },
    {
      "cell_type": "code",
      "metadata": {
        "id": "ea6nonHgA05L",
        "colab_type": "code",
        "colab": {}
      },
      "source": [
        "X = iris.data\n",
        "Y = iris.target\n",
        "df = pd.DataFrame(X, columns=iris.feature_names)"
      ],
      "execution_count": 0,
      "outputs": []
    },
    {
      "cell_type": "code",
      "metadata": {
        "id": "oQZdXpZmCLWn",
        "colab_type": "code",
        "colab": {}
      },
      "source": [
        "_ = pd.plotting.scatter_matrix(df, c=Y, figsize=[8, 8], s=150, marker='D')"
      ],
      "execution_count": 0,
      "outputs": []
    },
    {
      "cell_type": "code",
      "metadata": {
        "id": "00b9imuBKD5J",
        "colab_type": "code",
        "outputId": "7db48e7c-d25a-4806-d8bf-4a18277f9023",
        "colab": {
          "base_uri": "https://localhost:8080/",
          "height": 68
        }
      },
      "source": [
        "from sklearn.neighbors import KNeighborsClassifier\n",
        "from sklearn.model_selection import train_test_split\n",
        "X_train, X_test, y_train, y_test = train_test_split(X, Y, test_size=0.25, random_state=21, stratify=Y)"
      ],
      "execution_count": 0,
      "outputs": [
        {
          "output_type": "execute_result",
          "data": {
            "text/plain": [
              "KNeighborsClassifier(algorithm='auto', leaf_size=30, metric='minkowski',\n",
              "                     metric_params=None, n_jobs=None, n_neighbors=6, p=2,\n",
              "                     weights='uniform')"
            ]
          },
          "metadata": {
            "tags": []
          },
          "execution_count": 4
        }
      ]
    },
    {
      "cell_type": "code",
      "metadata": {
        "id": "QlPLjIeJdc2Y",
        "colab_type": "code",
        "outputId": "d4edcf3e-dd9c-4ab5-e78c-66daa1ad7b7c",
        "colab": {
          "base_uri": "https://localhost:8080/",
          "height": 68
        }
      },
      "source": [
        "knn = KNeighborsClassifier(n_neighbors=9)\n",
        "knn.fit(X_train, y_train)"
      ],
      "execution_count": 0,
      "outputs": [
        {
          "output_type": "execute_result",
          "data": {
            "text/plain": [
              "KNeighborsClassifier(algorithm='auto', leaf_size=30, metric='minkowski',\n",
              "                     metric_params=None, n_jobs=None, n_neighbors=9, p=2,\n",
              "                     weights='uniform')"
            ]
          },
          "metadata": {
            "tags": []
          },
          "execution_count": 6
        }
      ]
    },
    {
      "cell_type": "code",
      "metadata": {
        "id": "HSwQ2VhBLLVb",
        "colab_type": "code",
        "outputId": "833c1017-e042-47ff-ee03-7936ab000b30",
        "colab": {
          "base_uri": "https://localhost:8080/",
          "height": 68
        }
      },
      "source": [
        "prediction = knn.predict(X_test)\n",
        "print('Prediction: {}' .format(prediction))\n",
        "print(knn.score(X_test, y_test))"
      ],
      "execution_count": 0,
      "outputs": [
        {
          "output_type": "stream",
          "text": [
            "Prediction: [2 2 0 1 0 1 0 2 2 0 2 2 1 2 0 0 0 1 0 2 2 0 1 1 1 0 0 1 2 2 0 1 1 1 1 2 2\n",
            " 2]\n",
            "0.9736842105263158\n"
          ],
          "name": "stdout"
        }
      ]
    }
  ]
}